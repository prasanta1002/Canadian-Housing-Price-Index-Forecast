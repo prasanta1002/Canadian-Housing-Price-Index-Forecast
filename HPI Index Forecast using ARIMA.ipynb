{
 "cells": [
  {
   "cell_type": "code",
   "execution_count": 4,
   "metadata": {},
   "outputs": [
    {
     "data": {
      "text/html": [
       "<div>\n",
       "<style scoped>\n",
       "    .dataframe tbody tr th:only-of-type {\n",
       "        vertical-align: middle;\n",
       "    }\n",
       "\n",
       "    .dataframe tbody tr th {\n",
       "        vertical-align: top;\n",
       "    }\n",
       "\n",
       "    .dataframe thead th {\n",
       "        text-align: right;\n",
       "    }\n",
       "</style>\n",
       "<table border=\"1\" class=\"dataframe\">\n",
       "  <thead>\n",
       "    <tr style=\"text-align: right;\">\n",
       "      <th></th>\n",
       "      <th>REF_DATE</th>\n",
       "      <th>GEO</th>\n",
       "      <th>DGUID</th>\n",
       "      <th>New housing price indexes</th>\n",
       "      <th>UOM</th>\n",
       "      <th>UOM_ID</th>\n",
       "      <th>SCALAR_FACTOR</th>\n",
       "      <th>SCALAR_ID</th>\n",
       "      <th>VECTOR</th>\n",
       "      <th>COORDINATE</th>\n",
       "      <th>VALUE</th>\n",
       "      <th>STATUS</th>\n",
       "      <th>SYMBOL</th>\n",
       "      <th>TERMINATED</th>\n",
       "      <th>DECIMALS</th>\n",
       "    </tr>\n",
       "  </thead>\n",
       "  <tbody>\n",
       "    <tr>\n",
       "      <th>0</th>\n",
       "      <td>1981-01</td>\n",
       "      <td>Canada</td>\n",
       "      <td>2016A000011124</td>\n",
       "      <td>Total (house and land)</td>\n",
       "      <td>Index, 201612=100</td>\n",
       "      <td>347</td>\n",
       "      <td>units</td>\n",
       "      <td>0</td>\n",
       "      <td>v111955442</td>\n",
       "      <td>1.1</td>\n",
       "      <td>38.2</td>\n",
       "      <td>NaN</td>\n",
       "      <td>NaN</td>\n",
       "      <td>NaN</td>\n",
       "      <td>1</td>\n",
       "    </tr>\n",
       "    <tr>\n",
       "      <th>1</th>\n",
       "      <td>1981-01</td>\n",
       "      <td>Canada</td>\n",
       "      <td>2016A000011124</td>\n",
       "      <td>House only</td>\n",
       "      <td>Index, 201612=100</td>\n",
       "      <td>347</td>\n",
       "      <td>units</td>\n",
       "      <td>0</td>\n",
       "      <td>v111955443</td>\n",
       "      <td>1.2</td>\n",
       "      <td>36.1</td>\n",
       "      <td>NaN</td>\n",
       "      <td>NaN</td>\n",
       "      <td>NaN</td>\n",
       "      <td>1</td>\n",
       "    </tr>\n",
       "    <tr>\n",
       "      <th>2</th>\n",
       "      <td>1981-01</td>\n",
       "      <td>Canada</td>\n",
       "      <td>2016A000011124</td>\n",
       "      <td>Land only</td>\n",
       "      <td>Index, 201612=100</td>\n",
       "      <td>347</td>\n",
       "      <td>units</td>\n",
       "      <td>0</td>\n",
       "      <td>v111955444</td>\n",
       "      <td>1.3</td>\n",
       "      <td>40.6</td>\n",
       "      <td>NaN</td>\n",
       "      <td>NaN</td>\n",
       "      <td>NaN</td>\n",
       "      <td>1</td>\n",
       "    </tr>\n",
       "    <tr>\n",
       "      <th>3</th>\n",
       "      <td>1981-01</td>\n",
       "      <td>Atlantic Region</td>\n",
       "      <td>2016A00011</td>\n",
       "      <td>Total (house and land)</td>\n",
       "      <td>Index, 201612=100</td>\n",
       "      <td>347</td>\n",
       "      <td>units</td>\n",
       "      <td>0</td>\n",
       "      <td>v111955445</td>\n",
       "      <td>2.1</td>\n",
       "      <td>NaN</td>\n",
       "      <td>..</td>\n",
       "      <td>NaN</td>\n",
       "      <td>NaN</td>\n",
       "      <td>1</td>\n",
       "    </tr>\n",
       "    <tr>\n",
       "      <th>4</th>\n",
       "      <td>1981-01</td>\n",
       "      <td>Atlantic Region</td>\n",
       "      <td>2016A00011</td>\n",
       "      <td>House only</td>\n",
       "      <td>Index, 201612=100</td>\n",
       "      <td>347</td>\n",
       "      <td>units</td>\n",
       "      <td>0</td>\n",
       "      <td>v111955446</td>\n",
       "      <td>2.2</td>\n",
       "      <td>NaN</td>\n",
       "      <td>..</td>\n",
       "      <td>NaN</td>\n",
       "      <td>NaN</td>\n",
       "      <td>1</td>\n",
       "    </tr>\n",
       "  </tbody>\n",
       "</table>\n",
       "</div>"
      ],
      "text/plain": [
       "  REF_DATE              GEO           DGUID New housing price indexes  \\\n",
       "0  1981-01           Canada  2016A000011124    Total (house and land)   \n",
       "1  1981-01           Canada  2016A000011124                House only   \n",
       "2  1981-01           Canada  2016A000011124                 Land only   \n",
       "3  1981-01  Atlantic Region      2016A00011    Total (house and land)   \n",
       "4  1981-01  Atlantic Region      2016A00011                House only   \n",
       "\n",
       "                 UOM  UOM_ID SCALAR_FACTOR  SCALAR_ID      VECTOR  COORDINATE  \\\n",
       "0  Index, 201612=100     347        units           0  v111955442         1.1   \n",
       "1  Index, 201612=100     347        units           0  v111955443         1.2   \n",
       "2  Index, 201612=100     347        units           0  v111955444         1.3   \n",
       "3  Index, 201612=100     347        units           0  v111955445         2.1   \n",
       "4  Index, 201612=100     347        units           0  v111955446         2.2   \n",
       "\n",
       "   VALUE STATUS  SYMBOL  TERMINATED  DECIMALS  \n",
       "0   38.2    NaN     NaN         NaN         1  \n",
       "1   36.1    NaN     NaN         NaN         1  \n",
       "2   40.6    NaN     NaN         NaN         1  \n",
       "3    NaN     ..     NaN         NaN         1  \n",
       "4    NaN     ..     NaN         NaN         1  "
      ]
     },
     "execution_count": 4,
     "metadata": {},
     "output_type": "execute_result"
    }
   ],
   "source": [
    "import pandas as pd\n",
    "\n",
    "data=pd.read_csv(\"18100205.csv\")\n",
    "\n",
    "data.head() #to display the first 5 lines of loaded data"
   ]
  },
  {
   "cell_type": "code",
   "execution_count": 3,
   "metadata": {},
   "outputs": [
    {
     "data": {
      "text/plain": [
       "REF_DATE                      object\n",
       "GEO                           object\n",
       "DGUID                         object\n",
       "New housing price indexes     object\n",
       "UOM                           object\n",
       "UOM_ID                         int64\n",
       "SCALAR_FACTOR                 object\n",
       "SCALAR_ID                      int64\n",
       "VECTOR                        object\n",
       "COORDINATE                   float64\n",
       "VALUE                        float64\n",
       "STATUS                        object\n",
       "SYMBOL                       float64\n",
       "TERMINATED                   float64\n",
       "DECIMALS                       int64\n",
       "dtype: object"
      ]
     },
     "execution_count": 3,
     "metadata": {},
     "output_type": "execute_result"
    }
   ],
   "source": [
    "data.dtypes"
   ]
  },
  {
   "cell_type": "code",
   "execution_count": 5,
   "metadata": {},
   "outputs": [],
   "source": [
    "data = data[['REF_DATE', 'GEO', 'New housing price indexes', 'VALUE']].rename(columns = {'New housing price indexes' : 'HPI'})"
   ]
  },
  {
   "cell_type": "code",
   "execution_count": 6,
   "metadata": {},
   "outputs": [
    {
     "data": {
      "text/html": [
       "<div>\n",
       "<style scoped>\n",
       "    .dataframe tbody tr th:only-of-type {\n",
       "        vertical-align: middle;\n",
       "    }\n",
       "\n",
       "    .dataframe tbody tr th {\n",
       "        vertical-align: top;\n",
       "    }\n",
       "\n",
       "    .dataframe thead th {\n",
       "        text-align: right;\n",
       "    }\n",
       "</style>\n",
       "<table border=\"1\" class=\"dataframe\">\n",
       "  <thead>\n",
       "    <tr style=\"text-align: right;\">\n",
       "      <th></th>\n",
       "      <th>REF_DATE</th>\n",
       "      <th>GEO</th>\n",
       "      <th>HPI</th>\n",
       "      <th>VALUE</th>\n",
       "    </tr>\n",
       "  </thead>\n",
       "  <tbody>\n",
       "    <tr>\n",
       "      <th>0</th>\n",
       "      <td>1981-01</td>\n",
       "      <td>Canada</td>\n",
       "      <td>Total (house and land)</td>\n",
       "      <td>38.2</td>\n",
       "    </tr>\n",
       "    <tr>\n",
       "      <th>1</th>\n",
       "      <td>1981-01</td>\n",
       "      <td>Canada</td>\n",
       "      <td>House only</td>\n",
       "      <td>36.1</td>\n",
       "    </tr>\n",
       "    <tr>\n",
       "      <th>2</th>\n",
       "      <td>1981-01</td>\n",
       "      <td>Canada</td>\n",
       "      <td>Land only</td>\n",
       "      <td>40.6</td>\n",
       "    </tr>\n",
       "    <tr>\n",
       "      <th>3</th>\n",
       "      <td>1981-01</td>\n",
       "      <td>Atlantic Region</td>\n",
       "      <td>Total (house and land)</td>\n",
       "      <td>NaN</td>\n",
       "    </tr>\n",
       "    <tr>\n",
       "      <th>4</th>\n",
       "      <td>1981-01</td>\n",
       "      <td>Atlantic Region</td>\n",
       "      <td>House only</td>\n",
       "      <td>NaN</td>\n",
       "    </tr>\n",
       "  </tbody>\n",
       "</table>\n",
       "</div>"
      ],
      "text/plain": [
       "  REF_DATE              GEO                     HPI  VALUE\n",
       "0  1981-01           Canada  Total (house and land)   38.2\n",
       "1  1981-01           Canada              House only   36.1\n",
       "2  1981-01           Canada               Land only   40.6\n",
       "3  1981-01  Atlantic Region  Total (house and land)    NaN\n",
       "4  1981-01  Atlantic Region              House only    NaN"
      ]
     },
     "execution_count": 6,
     "metadata": {},
     "output_type": "execute_result"
    }
   ],
   "source": [
    "data.head()"
   ]
  },
  {
   "cell_type": "code",
   "execution_count": 7,
   "metadata": {},
   "outputs": [],
   "source": [
    "filtered_data1 = data.loc[data.GEO == 'Canada']"
   ]
  },
  {
   "cell_type": "code",
   "execution_count": 8,
   "metadata": {},
   "outputs": [],
   "source": [
    "filtered_data = filtered_data1.loc[filtered_data1.HPI == 'Total (house and land)']"
   ]
  },
  {
   "cell_type": "code",
   "execution_count": 9,
   "metadata": {},
   "outputs": [
    {
     "data": {
      "text/html": [
       "<div>\n",
       "<style scoped>\n",
       "    .dataframe tbody tr th:only-of-type {\n",
       "        vertical-align: middle;\n",
       "    }\n",
       "\n",
       "    .dataframe tbody tr th {\n",
       "        vertical-align: top;\n",
       "    }\n",
       "\n",
       "    .dataframe thead th {\n",
       "        text-align: right;\n",
       "    }\n",
       "</style>\n",
       "<table border=\"1\" class=\"dataframe\">\n",
       "  <thead>\n",
       "    <tr style=\"text-align: right;\">\n",
       "      <th></th>\n",
       "      <th>REF_DATE</th>\n",
       "      <th>GEO</th>\n",
       "      <th>HPI</th>\n",
       "      <th>VALUE</th>\n",
       "    </tr>\n",
       "  </thead>\n",
       "  <tbody>\n",
       "    <tr>\n",
       "      <th>0</th>\n",
       "      <td>1981-01</td>\n",
       "      <td>Canada</td>\n",
       "      <td>Total (house and land)</td>\n",
       "      <td>38.2</td>\n",
       "    </tr>\n",
       "    <tr>\n",
       "      <th>120</th>\n",
       "      <td>1981-02</td>\n",
       "      <td>Canada</td>\n",
       "      <td>Total (house and land)</td>\n",
       "      <td>38.7</td>\n",
       "    </tr>\n",
       "    <tr>\n",
       "      <th>240</th>\n",
       "      <td>1981-03</td>\n",
       "      <td>Canada</td>\n",
       "      <td>Total (house and land)</td>\n",
       "      <td>39.3</td>\n",
       "    </tr>\n",
       "    <tr>\n",
       "      <th>360</th>\n",
       "      <td>1981-04</td>\n",
       "      <td>Canada</td>\n",
       "      <td>Total (house and land)</td>\n",
       "      <td>39.9</td>\n",
       "    </tr>\n",
       "    <tr>\n",
       "      <th>480</th>\n",
       "      <td>1981-05</td>\n",
       "      <td>Canada</td>\n",
       "      <td>Total (house and land)</td>\n",
       "      <td>40.6</td>\n",
       "    </tr>\n",
       "  </tbody>\n",
       "</table>\n",
       "</div>"
      ],
      "text/plain": [
       "    REF_DATE     GEO                     HPI  VALUE\n",
       "0    1981-01  Canada  Total (house and land)   38.2\n",
       "120  1981-02  Canada  Total (house and land)   38.7\n",
       "240  1981-03  Canada  Total (house and land)   39.3\n",
       "360  1981-04  Canada  Total (house and land)   39.9\n",
       "480  1981-05  Canada  Total (house and land)   40.6"
      ]
     },
     "execution_count": 9,
     "metadata": {},
     "output_type": "execute_result"
    }
   ],
   "source": [
    "filtered_data.head()"
   ]
  },
  {
   "cell_type": "code",
   "execution_count": 10,
   "metadata": {},
   "outputs": [
    {
     "name": "stderr",
     "output_type": "stream",
     "text": [
      "C:\\Users\\t934449\\AppData\\Local\\Continuum\\anaconda3\\lib\\site-packages\\pandas\\core\\generic.py:5096: SettingWithCopyWarning: \n",
      "A value is trying to be set on a copy of a slice from a DataFrame.\n",
      "Try using .loc[row_indexer,col_indexer] = value instead\n",
      "\n",
      "See the caveats in the documentation: http://pandas.pydata.org/pandas-docs/stable/indexing.html#indexing-view-versus-copy\n",
      "  self[name] = value\n"
     ]
    },
    {
     "data": {
      "text/html": [
       "<div>\n",
       "<style scoped>\n",
       "    .dataframe tbody tr th:only-of-type {\n",
       "        vertical-align: middle;\n",
       "    }\n",
       "\n",
       "    .dataframe tbody tr th {\n",
       "        vertical-align: top;\n",
       "    }\n",
       "\n",
       "    .dataframe thead th {\n",
       "        text-align: right;\n",
       "    }\n",
       "</style>\n",
       "<table border=\"1\" class=\"dataframe\">\n",
       "  <thead>\n",
       "    <tr style=\"text-align: right;\">\n",
       "      <th></th>\n",
       "      <th>VALUE</th>\n",
       "    </tr>\n",
       "    <tr>\n",
       "      <th>REF_DATE</th>\n",
       "      <th></th>\n",
       "    </tr>\n",
       "  </thead>\n",
       "  <tbody>\n",
       "    <tr>\n",
       "      <th>1981-01-01</th>\n",
       "      <td>38.2</td>\n",
       "    </tr>\n",
       "    <tr>\n",
       "      <th>1981-02-01</th>\n",
       "      <td>38.7</td>\n",
       "    </tr>\n",
       "    <tr>\n",
       "      <th>1981-03-01</th>\n",
       "      <td>39.3</td>\n",
       "    </tr>\n",
       "    <tr>\n",
       "      <th>1981-04-01</th>\n",
       "      <td>39.9</td>\n",
       "    </tr>\n",
       "    <tr>\n",
       "      <th>1981-05-01</th>\n",
       "      <td>40.6</td>\n",
       "    </tr>\n",
       "  </tbody>\n",
       "</table>\n",
       "</div>"
      ],
      "text/plain": [
       "            VALUE\n",
       "REF_DATE         \n",
       "1981-01-01   38.2\n",
       "1981-02-01   38.7\n",
       "1981-03-01   39.3\n",
       "1981-04-01   39.9\n",
       "1981-05-01   40.6"
      ]
     },
     "execution_count": 10,
     "metadata": {},
     "output_type": "execute_result"
    }
   ],
   "source": [
    "filtered_data2 = filtered_data[['REF_DATE', 'VALUE']]\n",
    "\n",
    "filtered_data2.REF_DATE = pd.to_datetime(filtered_data2.REF_DATE)\n",
    "filtered_data2.set_index('REF_DATE', inplace=True)\n",
    "\n",
    "#filtered_data.index = pd.to_datetime(filtered_data.index, format='%Y-%m', errors='coerce').dropna()\n",
    "\n",
    "filtered_data2.dtypes\n",
    "\n",
    "filtered_data2.head()"
   ]
  },
  {
   "cell_type": "code",
   "execution_count": 12,
   "metadata": {},
   "outputs": [
    {
     "data": {
      "image/png": "[encoded data removed]",
      "text/plain": [
       "<Figure size 432x288 with 1 Axes>"
      ]
     },
     "metadata": {
      "needs_background": "light"
     },
     "output_type": "display_data"
    }
   ],
   "source": [
    "from datetime import date, timedelta\n",
    "import matplotlib.pyplot as plt\n",
    "import matplotlib.dates as mdates\n",
    "\n",
    "\n",
    "filtered_data2.plot()\n",
    "plt.show()"
   ]
  },
  {
   "cell_type": "code",
   "execution_count": 13,
   "metadata": {},
   "outputs": [
    {
     "data": {
      "image/png": "[encoded data removed]",
      "text/plain": [
       "<Figure size 432x288 with 1 Axes>"
      ]
     },
     "metadata": {
      "needs_background": "light"
     },
     "output_type": "display_data"
    }
   ],
   "source": [
    "from pandas.plotting import autocorrelation_plot\n",
    "\n",
    "#filtered_data2.VALUE = str(filtered_data2.VALUE)\n",
    "\n",
    "autocorrelation_plot(filtered_data2)\n",
    "plt.show()"
   ]
  },
  {
   "cell_type": "code",
   "execution_count": 64,
   "metadata": {},
   "outputs": [],
   "source": [
    "from statsmodels.tsa.arima_model import ARIMA\n",
    "from sklearn.metrics import mean_squared_error\n",
    "\n",
    "X = filtered_data2.VALUE\n",
    "size = int(len(X) * 0.98)\n",
    "train, test = X[0:size], X[size:len(X)]\n",
    "history = [x for x in train]\n",
    "predictions = list()\n",
    "for t in range(len(test)+24):\n",
    "    model = ARIMA(history, order=(5,1,4))\n",
    "    model_fit = model.fit(disp=0)\n",
    "    output = model_fit.forecast()\n",
    "    yhat = output[0]\n",
    "    predictions.append(yhat)\n",
    "    if t< len(test) :\n",
    "        obs = test[t]\n",
    "        history.append(obs)\n",
    "    #print('predicted=%f, expected=%f' % (yhat, obs))\n",
    "error = mean_squared_error(test, predictions[0:len(test)])\n",
    "print('Test MSE: %.3f' % error)\n",
    "# plot\n"
   ]
  },
  {
   "cell_type": "code",
   "execution_count": 66,
   "metadata": {},
   "outputs": [],
   "source": [
    "#test.head()\n",
    "#test.dtypes\n",
    "\n",
    "import datetime\n",
    "#import pandas as pd\n",
    "#import numpy as np\n",
    "\n",
    "init_date = datetime.datetime.strptime('2018-11-01', '%Y-%m-%d')\n",
    "index = pd.date_range(init_date, periods=34, freq='MS')\n",
    "\n",
    "columns = ['VALUE']\n",
    "\n",
    "predictions_ = pd.DataFrame(predictions, index=index, columns=columns)\n",
    "#predictions_.head(12)\n"
   ]
  },
  {
   "cell_type": "code",
   "execution_count": 67,
   "metadata": {},
   "outputs": [
    {
     "data": {
      "image/png": "[encoded data removed]",
      "text/plain": [
       "<Figure size 432x288 with 1 Axes>"
      ]
     },
     "metadata": {
      "needs_background": "light"
     },
     "output_type": "display_data"
    }
   ],
   "source": [
    "#plt.plot(train)\n",
    "plt.plot(test)\n",
    "plt.plot(predictions_, color='red')\n",
    "plt.show()"
   ]
  }
 ],
 "metadata": {
  "kernelspec": {
   "display_name": "Python 3",
   "language": "python",
   "name": "python3"
  },
  "language_info": {
   "codemirror_mode": {
    "name": "ipython",
    "version": 3
   },
   "file_extension": ".py",
   "mimetype": "text/x-python",
   "name": "python",
   "nbconvert_exporter": "python",
   "pygments_lexer": "ipython3",
   "version": "3.7.3"
  }
 },
 "nbformat": 4,
 "nbformat_minor": 2
}
