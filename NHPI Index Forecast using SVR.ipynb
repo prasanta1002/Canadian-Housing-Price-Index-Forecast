{
 "cells": [
  {
   "cell_type": "code",
   "execution_count": 1,
   "metadata": {},
   "outputs": [
    {
     "data": {
      "text/html": [
       "<div>\n",
       "<style scoped>\n",
       "    .dataframe tbody tr th:only-of-type {\n",
       "        vertical-align: middle;\n",
       "    }\n",
       "\n",
       "    .dataframe tbody tr th {\n",
       "        vertical-align: top;\n",
       "    }\n",
       "\n",
       "    .dataframe thead th {\n",
       "        text-align: right;\n",
       "    }\n",
       "</style>\n",
       "<table border=\"1\" class=\"dataframe\">\n",
       "  <thead>\n",
       "    <tr style=\"text-align: right;\">\n",
       "      <th></th>\n",
       "      <th>REF_DATE</th>\n",
       "      <th>GEO</th>\n",
       "      <th>DGUID</th>\n",
       "      <th>New housing price indexes</th>\n",
       "      <th>UOM</th>\n",
       "      <th>UOM_ID</th>\n",
       "      <th>SCALAR_FACTOR</th>\n",
       "      <th>SCALAR_ID</th>\n",
       "      <th>VECTOR</th>\n",
       "      <th>COORDINATE</th>\n",
       "      <th>VALUE</th>\n",
       "      <th>STATUS</th>\n",
       "      <th>SYMBOL</th>\n",
       "      <th>TERMINATED</th>\n",
       "      <th>DECIMALS</th>\n",
       "    </tr>\n",
       "  </thead>\n",
       "  <tbody>\n",
       "    <tr>\n",
       "      <td>0</td>\n",
       "      <td>1981-01</td>\n",
       "      <td>Canada</td>\n",
       "      <td>2016A000011124</td>\n",
       "      <td>Total (house and land)</td>\n",
       "      <td>Index, 201612=100</td>\n",
       "      <td>347</td>\n",
       "      <td>units</td>\n",
       "      <td>0</td>\n",
       "      <td>v111955442</td>\n",
       "      <td>1.1</td>\n",
       "      <td>38.2</td>\n",
       "      <td>NaN</td>\n",
       "      <td>NaN</td>\n",
       "      <td>NaN</td>\n",
       "      <td>1</td>\n",
       "    </tr>\n",
       "    <tr>\n",
       "      <td>1</td>\n",
       "      <td>1981-01</td>\n",
       "      <td>Canada</td>\n",
       "      <td>2016A000011124</td>\n",
       "      <td>House only</td>\n",
       "      <td>Index, 201612=100</td>\n",
       "      <td>347</td>\n",
       "      <td>units</td>\n",
       "      <td>0</td>\n",
       "      <td>v111955443</td>\n",
       "      <td>1.2</td>\n",
       "      <td>36.1</td>\n",
       "      <td>NaN</td>\n",
       "      <td>NaN</td>\n",
       "      <td>NaN</td>\n",
       "      <td>1</td>\n",
       "    </tr>\n",
       "    <tr>\n",
       "      <td>2</td>\n",
       "      <td>1981-01</td>\n",
       "      <td>Canada</td>\n",
       "      <td>2016A000011124</td>\n",
       "      <td>Land only</td>\n",
       "      <td>Index, 201612=100</td>\n",
       "      <td>347</td>\n",
       "      <td>units</td>\n",
       "      <td>0</td>\n",
       "      <td>v111955444</td>\n",
       "      <td>1.3</td>\n",
       "      <td>40.6</td>\n",
       "      <td>NaN</td>\n",
       "      <td>NaN</td>\n",
       "      <td>NaN</td>\n",
       "      <td>1</td>\n",
       "    </tr>\n",
       "    <tr>\n",
       "      <td>3</td>\n",
       "      <td>1981-01</td>\n",
       "      <td>Atlantic Region</td>\n",
       "      <td>2016A00011</td>\n",
       "      <td>Total (house and land)</td>\n",
       "      <td>Index, 201612=100</td>\n",
       "      <td>347</td>\n",
       "      <td>units</td>\n",
       "      <td>0</td>\n",
       "      <td>v111955445</td>\n",
       "      <td>2.1</td>\n",
       "      <td>NaN</td>\n",
       "      <td>..</td>\n",
       "      <td>NaN</td>\n",
       "      <td>NaN</td>\n",
       "      <td>1</td>\n",
       "    </tr>\n",
       "    <tr>\n",
       "      <td>4</td>\n",
       "      <td>1981-01</td>\n",
       "      <td>Atlantic Region</td>\n",
       "      <td>2016A00011</td>\n",
       "      <td>House only</td>\n",
       "      <td>Index, 201612=100</td>\n",
       "      <td>347</td>\n",
       "      <td>units</td>\n",
       "      <td>0</td>\n",
       "      <td>v111955446</td>\n",
       "      <td>2.2</td>\n",
       "      <td>NaN</td>\n",
       "      <td>..</td>\n",
       "      <td>NaN</td>\n",
       "      <td>NaN</td>\n",
       "      <td>1</td>\n",
       "    </tr>\n",
       "  </tbody>\n",
       "</table>\n",
       "</div>"
      ],
      "text/plain": [
       "  REF_DATE              GEO           DGUID New housing price indexes  \\\n",
       "0  1981-01           Canada  2016A000011124    Total (house and land)   \n",
       "1  1981-01           Canada  2016A000011124                House only   \n",
       "2  1981-01           Canada  2016A000011124                 Land only   \n",
       "3  1981-01  Atlantic Region      2016A00011    Total (house and land)   \n",
       "4  1981-01  Atlantic Region      2016A00011                House only   \n",
       "\n",
       "                 UOM  UOM_ID SCALAR_FACTOR  SCALAR_ID      VECTOR  COORDINATE  \\\n",
       "0  Index, 201612=100     347        units           0  v111955442         1.1   \n",
       "1  Index, 201612=100     347        units           0  v111955443         1.2   \n",
       "2  Index, 201612=100     347        units           0  v111955444         1.3   \n",
       "3  Index, 201612=100     347        units           0  v111955445         2.1   \n",
       "4  Index, 201612=100     347        units           0  v111955446         2.2   \n",
       "\n",
       "   VALUE STATUS  SYMBOL  TERMINATED  DECIMALS  \n",
       "0   38.2    NaN     NaN         NaN         1  \n",
       "1   36.1    NaN     NaN         NaN         1  \n",
       "2   40.6    NaN     NaN         NaN         1  \n",
       "3    NaN     ..     NaN         NaN         1  \n",
       "4    NaN     ..     NaN         NaN         1  "
      ]
     },
     "execution_count": 1,
     "metadata": {},
     "output_type": "execute_result"
    }
   ],
   "source": [
    "import pandas as pd\n",
    "\n",
    "data=pd.read_csv(\"18100205.csv\")\n",
    "\n",
    "data.head() #to display the first 5 lines of loaded data"
   ]
  },
  {
   "cell_type": "code",
   "execution_count": 2,
   "metadata": {},
   "outputs": [
    {
     "data": {
      "text/plain": [
       "REF_DATE                      object\n",
       "GEO                           object\n",
       "DGUID                         object\n",
       "New housing price indexes     object\n",
       "UOM                           object\n",
       "UOM_ID                         int64\n",
       "SCALAR_FACTOR                 object\n",
       "SCALAR_ID                      int64\n",
       "VECTOR                        object\n",
       "COORDINATE                   float64\n",
       "VALUE                        float64\n",
       "STATUS                        object\n",
       "SYMBOL                       float64\n",
       "TERMINATED                   float64\n",
       "DECIMALS                       int64\n",
       "dtype: object"
      ]
     },
     "execution_count": 2,
     "metadata": {},
     "output_type": "execute_result"
    }
   ],
   "source": [
    "data.dtypes"
   ]
  },
  {
   "cell_type": "code",
   "execution_count": 2,
   "metadata": {},
   "outputs": [],
   "source": [
    "data = data[['REF_DATE', 'GEO', 'New housing price indexes', 'VALUE']].rename(columns = {'New housing price indexes' : 'HPI_TYPE', 'VALUE' : 'HPI'})"
   ]
  },
  {
   "cell_type": "code",
   "execution_count": 4,
   "metadata": {},
   "outputs": [
    {
     "data": {
      "text/html": [
       "<div>\n",
       "<style scoped>\n",
       "    .dataframe tbody tr th:only-of-type {\n",
       "        vertical-align: middle;\n",
       "    }\n",
       "\n",
       "    .dataframe tbody tr th {\n",
       "        vertical-align: top;\n",
       "    }\n",
       "\n",
       "    .dataframe thead th {\n",
       "        text-align: right;\n",
       "    }\n",
       "</style>\n",
       "<table border=\"1\" class=\"dataframe\">\n",
       "  <thead>\n",
       "    <tr style=\"text-align: right;\">\n",
       "      <th></th>\n",
       "      <th>REF_DATE</th>\n",
       "      <th>GEO</th>\n",
       "      <th>HPI_TYPE</th>\n",
       "      <th>HPI</th>\n",
       "    </tr>\n",
       "  </thead>\n",
       "  <tbody>\n",
       "    <tr>\n",
       "      <td>0</td>\n",
       "      <td>1981-01</td>\n",
       "      <td>Canada</td>\n",
       "      <td>Total (house and land)</td>\n",
       "      <td>38.2</td>\n",
       "    </tr>\n",
       "    <tr>\n",
       "      <td>1</td>\n",
       "      <td>1981-01</td>\n",
       "      <td>Canada</td>\n",
       "      <td>House only</td>\n",
       "      <td>36.1</td>\n",
       "    </tr>\n",
       "    <tr>\n",
       "      <td>2</td>\n",
       "      <td>1981-01</td>\n",
       "      <td>Canada</td>\n",
       "      <td>Land only</td>\n",
       "      <td>40.6</td>\n",
       "    </tr>\n",
       "    <tr>\n",
       "      <td>3</td>\n",
       "      <td>1981-01</td>\n",
       "      <td>Atlantic Region</td>\n",
       "      <td>Total (house and land)</td>\n",
       "      <td>NaN</td>\n",
       "    </tr>\n",
       "    <tr>\n",
       "      <td>4</td>\n",
       "      <td>1981-01</td>\n",
       "      <td>Atlantic Region</td>\n",
       "      <td>House only</td>\n",
       "      <td>NaN</td>\n",
       "    </tr>\n",
       "  </tbody>\n",
       "</table>\n",
       "</div>"
      ],
      "text/plain": [
       "  REF_DATE              GEO                HPI_TYPE   HPI\n",
       "0  1981-01           Canada  Total (house and land)  38.2\n",
       "1  1981-01           Canada              House only  36.1\n",
       "2  1981-01           Canada               Land only  40.6\n",
       "3  1981-01  Atlantic Region  Total (house and land)   NaN\n",
       "4  1981-01  Atlantic Region              House only   NaN"
      ]
     },
     "execution_count": 4,
     "metadata": {},
     "output_type": "execute_result"
    }
   ],
   "source": [
    "data.head()"
   ]
  },
  {
   "cell_type": "code",
   "execution_count": 3,
   "metadata": {},
   "outputs": [],
   "source": [
    "filtered_data1 = data.loc[data.GEO == 'Canada']"
   ]
  },
  {
   "cell_type": "code",
   "execution_count": 4,
   "metadata": {},
   "outputs": [],
   "source": [
    "filtered_data = filtered_data1.loc[filtered_data1.HPI_TYPE == 'Total (house and land)']"
   ]
  },
  {
   "cell_type": "code",
   "execution_count": 5,
   "metadata": {},
   "outputs": [
    {
     "data": {
      "text/html": [
       "<div>\n",
       "<style scoped>\n",
       "    .dataframe tbody tr th:only-of-type {\n",
       "        vertical-align: middle;\n",
       "    }\n",
       "\n",
       "    .dataframe tbody tr th {\n",
       "        vertical-align: top;\n",
       "    }\n",
       "\n",
       "    .dataframe thead th {\n",
       "        text-align: right;\n",
       "    }\n",
       "</style>\n",
       "<table border=\"1\" class=\"dataframe\">\n",
       "  <thead>\n",
       "    <tr style=\"text-align: right;\">\n",
       "      <th></th>\n",
       "      <th>REF_DATE</th>\n",
       "      <th>GEO</th>\n",
       "      <th>HPI_TYPE</th>\n",
       "      <th>HPI</th>\n",
       "    </tr>\n",
       "  </thead>\n",
       "  <tbody>\n",
       "    <tr>\n",
       "      <td>0</td>\n",
       "      <td>1981-01</td>\n",
       "      <td>Canada</td>\n",
       "      <td>Total (house and land)</td>\n",
       "      <td>38.2</td>\n",
       "    </tr>\n",
       "    <tr>\n",
       "      <td>120</td>\n",
       "      <td>1981-02</td>\n",
       "      <td>Canada</td>\n",
       "      <td>Total (house and land)</td>\n",
       "      <td>38.7</td>\n",
       "    </tr>\n",
       "    <tr>\n",
       "      <td>240</td>\n",
       "      <td>1981-03</td>\n",
       "      <td>Canada</td>\n",
       "      <td>Total (house and land)</td>\n",
       "      <td>39.3</td>\n",
       "    </tr>\n",
       "    <tr>\n",
       "      <td>360</td>\n",
       "      <td>1981-04</td>\n",
       "      <td>Canada</td>\n",
       "      <td>Total (house and land)</td>\n",
       "      <td>39.9</td>\n",
       "    </tr>\n",
       "    <tr>\n",
       "      <td>480</td>\n",
       "      <td>1981-05</td>\n",
       "      <td>Canada</td>\n",
       "      <td>Total (house and land)</td>\n",
       "      <td>40.6</td>\n",
       "    </tr>\n",
       "  </tbody>\n",
       "</table>\n",
       "</div>"
      ],
      "text/plain": [
       "    REF_DATE     GEO                HPI_TYPE   HPI\n",
       "0    1981-01  Canada  Total (house and land)  38.2\n",
       "120  1981-02  Canada  Total (house and land)  38.7\n",
       "240  1981-03  Canada  Total (house and land)  39.3\n",
       "360  1981-04  Canada  Total (house and land)  39.9\n",
       "480  1981-05  Canada  Total (house and land)  40.6"
      ]
     },
     "execution_count": 5,
     "metadata": {},
     "output_type": "execute_result"
    }
   ],
   "source": [
    "filtered_data.head()"
   ]
  },
  {
   "cell_type": "code",
   "execution_count": 6,
   "metadata": {},
   "outputs": [
    {
     "name": "stderr",
     "output_type": "stream",
     "text": [
      "C:\\Users\\prasa\\Anaconda3\\lib\\site-packages\\pandas\\core\\generic.py:5208: SettingWithCopyWarning: \n",
      "A value is trying to be set on a copy of a slice from a DataFrame.\n",
      "Try using .loc[row_indexer,col_indexer] = value instead\n",
      "\n",
      "See the caveats in the documentation: http://pandas.pydata.org/pandas-docs/stable/user_guide/indexing.html#returning-a-view-versus-a-copy\n",
      "  self[name] = value\n"
     ]
    },
    {
     "data": {
      "text/plain": [
       "HPI    float64\n",
       "dtype: object"
      ]
     },
     "execution_count": 6,
     "metadata": {},
     "output_type": "execute_result"
    }
   ],
   "source": [
    "filtered_data2 = filtered_data[['REF_DATE', 'HPI']]\n",
    "\n",
    "filtered_data2.REF_DATE = pd.to_datetime(filtered_data2.REF_DATE)\n",
    "filtered_data2.set_index('REF_DATE', inplace=True)\n",
    "\n",
    "#filtered_data.index = pd.to_datetime(filtered_data.index, format='%Y-%m', errors='coerce').dropna()\n",
    "\n",
    "filtered_data2.dtypes\n",
    "\n",
    "#filtered_data2.tail()"
   ]
  },
  {
   "cell_type": "code",
   "execution_count": 7,
   "metadata": {
    "scrolled": false
   },
   "outputs": [
    {
     "data": {
      "image/png": "[encoded data removed]",
      "text/plain": [
       "<Figure size 864x432 with 1 Axes>"
      ]
     },
     "metadata": {},
     "output_type": "display_data"
    }
   ],
   "source": [
    "from datetime import date, timedelta\n",
    "from pandas.plotting import register_matplotlib_converters\n",
    "import matplotlib.pyplot as plt\n",
    "from matplotlib import style\n",
    "import matplotlib.dates as mdates\n",
    "%matplotlib inline\n",
    "style.use('ggplot')\n",
    "register_matplotlib_converters()\n",
    "\n",
    "plt.figure(figsize = (12,6))\n",
    "plt.plot(filtered_data2[\"HPI\"])\n",
    "plt.xlabel('Date',fontsize=15)\n",
    "plt.ylabel('Housing Price Index',fontsize=15)\n",
    "plt.show()"
   ]
  },
  {
   "cell_type": "code",
   "execution_count": 8,
   "metadata": {},
   "outputs": [
    {
     "data": {
      "text/html": [
       "<div>\n",
       "<style scoped>\n",
       "    .dataframe tbody tr th:only-of-type {\n",
       "        vertical-align: middle;\n",
       "    }\n",
       "\n",
       "    .dataframe tbody tr th {\n",
       "        vertical-align: top;\n",
       "    }\n",
       "\n",
       "    .dataframe thead th {\n",
       "        text-align: right;\n",
       "    }\n",
       "</style>\n",
       "<table border=\"1\" class=\"dataframe\">\n",
       "  <thead>\n",
       "    <tr style=\"text-align: right;\">\n",
       "      <th></th>\n",
       "      <th>New_ID</th>\n",
       "      <th>REF_DATE</th>\n",
       "      <th>HPI</th>\n",
       "      <th>REF_DATE_INT</th>\n",
       "    </tr>\n",
       "  </thead>\n",
       "  <tbody>\n",
       "    <tr>\n",
       "      <td>0</td>\n",
       "      <td>100</td>\n",
       "      <td>1981-01-01</td>\n",
       "      <td>38.2</td>\n",
       "      <td>723181.0</td>\n",
       "    </tr>\n",
       "    <tr>\n",
       "      <td>1</td>\n",
       "      <td>101</td>\n",
       "      <td>1981-02-01</td>\n",
       "      <td>38.7</td>\n",
       "      <td>723212.0</td>\n",
       "    </tr>\n",
       "    <tr>\n",
       "      <td>2</td>\n",
       "      <td>102</td>\n",
       "      <td>1981-03-01</td>\n",
       "      <td>39.3</td>\n",
       "      <td>723240.0</td>\n",
       "    </tr>\n",
       "    <tr>\n",
       "      <td>3</td>\n",
       "      <td>103</td>\n",
       "      <td>1981-04-01</td>\n",
       "      <td>39.9</td>\n",
       "      <td>723271.0</td>\n",
       "    </tr>\n",
       "    <tr>\n",
       "      <td>4</td>\n",
       "      <td>104</td>\n",
       "      <td>1981-05-01</td>\n",
       "      <td>40.6</td>\n",
       "      <td>723301.0</td>\n",
       "    </tr>\n",
       "  </tbody>\n",
       "</table>\n",
       "</div>"
      ],
      "text/plain": [
       "   New_ID   REF_DATE   HPI  REF_DATE_INT\n",
       "0     100 1981-01-01  38.2      723181.0\n",
       "1     101 1981-02-01  38.7      723212.0\n",
       "2     102 1981-03-01  39.3      723240.0\n",
       "3     103 1981-04-01  39.9      723271.0\n",
       "4     104 1981-05-01  40.6      723301.0"
      ]
     },
     "execution_count": 8,
     "metadata": {},
     "output_type": "execute_result"
    }
   ],
   "source": [
    "# change the dates into ints for training \n",
    "filtered_data3 = filtered_data2.copy()\n",
    "filtered_data3 = filtered_data3.reset_index()\n",
    "\n",
    "# Store the original dates for plotting the predicitons\n",
    "org_dates = filtered_data3['REF_DATE']\n",
    "\n",
    "# convert to ints\n",
    "filtered_data3['REF_DATE_INT'] = (filtered_data3['REF_DATE'].map(mdates.date2num))#%700000)/2318\n",
    "\n",
    "filtered_data3.insert(0, 'New_ID', range(100, 100 + len(filtered_data3)))\n",
    "\n",
    "filtered_data3.head()\n",
    "#filtered_data3['REF_DATE_INT'].astype(int) *2381+700000"
   ]
  },
  {
   "cell_type": "code",
   "execution_count": 9,
   "metadata": {
    "scrolled": false
   },
   "outputs": [],
   "source": [
    "from sklearn.svm import SVR\n",
    "from sklearn import preprocessing\n",
    "import numpy as np \n",
    "\n",
    "train =  filtered_data3.iloc[:-30]\n",
    "test = filtered_data3.tail(30)\n",
    "train_dates = train[['REF_DATE_INT']].values\n",
    "train_id = train[['New_ID']].values\n",
    "test_dates = test[['REF_DATE_INT']].values\n",
    "test_id = test[['New_ID']].values\n",
    "train_hpi = train[['HPI']].values\n",
    "test_hpi = test[['HPI']].values\n",
    "\n",
    "#Convert to 1d Vector\n",
    "train_dates = np.reshape(train_dates, (len(train_dates), 1))\n",
    "train_id = np.reshape(train_id, (len(train_id), 1))\n",
    "train_hpi = np.reshape(train_hpi, (len(train_hpi), 1))\n",
    "test_dates = np.reshape(test_dates, (len(test_dates), 1))\n",
    "test_id = np.reshape(test_id, (len(test_id), 1))\n",
    "test_hpi = np.reshape(test_hpi, (len(test_hpi), 1))"
   ]
  },
  {
   "cell_type": "code",
   "execution_count": 10,
   "metadata": {},
   "outputs": [
    {
     "name": "stdout",
     "output_type": "stream",
     "text": [
      "Fitting 3 folds for each of 25 candidates, totalling 75 fits\n",
      "[CV] C=0.1, gamma=1, kernel=rbf ......................................\n",
      "[CV] ......... C=0.1, gamma=1, kernel=rbf, score=-6.969, total=   0.0s\n",
      "[CV] C=0.1, gamma=1, kernel=rbf ......................................\n",
      "[CV] ......... C=0.1, gamma=1, kernel=rbf, score=-0.516, total=   0.0s\n",
      "[CV] C=0.1, gamma=1, kernel=rbf ......................................\n",
      "[CV] ........ C=0.1, gamma=1, kernel=rbf, score=-21.389, total=   0.0s\n",
      "[CV] C=0.1, gamma=0.1, kernel=rbf ....................................\n",
      "[CV] ....... C=0.1, gamma=0.1, kernel=rbf, score=-6.968, total=   0.0s\n",
      "[CV] C=0.1, gamma=0.1, kernel=rbf ....................................\n",
      "[CV] ....... C=0.1, gamma=0.1, kernel=rbf, score=-0.640, total=   0.0s\n",
      "[CV] C=0.1, gamma=0.1, kernel=rbf ....................................\n",
      "[CV] ...... C=0.1, gamma=0.1, kernel=rbf, score=-21.396, total=   0.0s\n",
      "[CV] C=0.1, gamma=0.01, kernel=rbf ...................................\n",
      "[CV] ...... C=0.1, gamma=0.01, kernel=rbf, score=-6.989, total=   0.0s\n",
      "[CV] C=0.1, gamma=0.01, kernel=rbf ...................................\n",
      "[CV] ...... C=0.1, gamma=0.01, kernel=rbf, score=-1.140, total=   0.0s\n",
      "[CV] C=0.1, gamma=0.01, kernel=rbf ...................................\n",
      "[CV] ..... C=0.1, gamma=0.01, kernel=rbf, score=-21.598, total=   0.0s\n",
      "[CV] C=0.1, gamma=0.001, kernel=rbf ..................................\n",
      "[CV] ..... C=0.1, gamma=0.001, kernel=rbf, score=-6.882, total=   0.0s\n",
      "[CV] C=0.1, gamma=0.001, kernel=rbf ..................................\n",
      "[CV] ..... C=0.1, gamma=0.001, kernel=rbf, score=-3.360, total=   0.0s\n",
      "[CV] C=0.1, gamma=0.001, kernel=rbf ..................................\n",
      "[CV] .... C=0.1, gamma=0.001, kernel=rbf, score=-22.712, total=   0.0s\n",
      "[CV] C=0.1, gamma=0.0001, kernel=rbf .................................\n",
      "[CV] .... C=0.1, gamma=0.0001, kernel=rbf, score=-5.719, total=   0.0s\n",
      "[CV] C=0.1, gamma=0.0001, kernel=rbf .................................\n",
      "[CV] .... C=0.1, gamma=0.0001, kernel=rbf, score=-4.154, total=   0.0s\n",
      "[CV] C=0.1, gamma=0.0001, kernel=rbf .................................\n",
      "[CV] ... C=0.1, gamma=0.0001, kernel=rbf, score=-22.215, total=   0.0s\n",
      "[CV] C=1, gamma=1, kernel=rbf ........................................\n",
      "[CV] ........... C=1, gamma=1, kernel=rbf, score=-7.102, total=   0.0s\n",
      "[CV] C=1, gamma=1, kernel=rbf ........................................\n",
      "[CV] ........... C=1, gamma=1, kernel=rbf, score=-1.012, total=   0.0s\n",
      "[CV] C=1, gamma=1, kernel=rbf ........................................\n",
      "[CV] .......... C=1, gamma=1, kernel=rbf, score=-21.568, total=   0.0s\n",
      "[CV] C=1, gamma=0.1, kernel=rbf ......................................\n",
      "[CV] ......... C=1, gamma=0.1, kernel=rbf, score=-7.298, total=   0.0s\n",
      "[CV] C=1, gamma=0.1, kernel=rbf ......................................\n",
      "[CV] ......... C=1, gamma=0.1, kernel=rbf, score=-3.142, total=   0.0s\n",
      "[CV] C=1, gamma=0.1, kernel=rbf ......................................\n",
      "[CV] ........ C=1, gamma=0.1, kernel=rbf, score=-22.642, total=   0.0s\n",
      "[CV] C=1, gamma=0.01, kernel=rbf .....................................\n",
      "[CV] ........ C=1, gamma=0.01, kernel=rbf, score=-8.473, total=   0.0s\n",
      "[CV] C=1, gamma=0.01, kernel=rbf .....................................\n",
      "[CV] ........ C=1, gamma=0.01, kernel=rbf, score=-5.458, total=   0.0s\n",
      "[CV] C=1, gamma=0.01, kernel=rbf .....................................\n",
      "[CV] ....... C=1, gamma=0.01, kernel=rbf, score=-25.287, total=   0.0s\n",
      "[CV] C=1, gamma=0.001, kernel=rbf ....................................\n",
      "[CV] ....... C=1, gamma=0.001, kernel=rbf, score=-8.691, total=   0.0s\n",
      "[CV] C=1, gamma=0.001, kernel=rbf ....................................\n",
      "[CV] ....... C=1, gamma=0.001, kernel=rbf, score=-2.496, total=   0.0s\n",
      "[CV] C=1, gamma=0.001, kernel=rbf ....................................\n",
      "[CV] ...... C=1, gamma=0.001, kernel=rbf, score=-23.554, total=   0.0s\n",
      "[CV] C=1, gamma=0.0001, kernel=rbf ...................................\n",
      "[CV] ...... C=1, gamma=0.0001, kernel=rbf, score=-6.431, total=   0.0s\n",
      "[CV] C=1, gamma=0.0001, kernel=rbf ...................................\n",
      "[CV] ...... C=1, gamma=0.0001, kernel=rbf, score=-2.632, total=   0.0s\n",
      "[CV] C=1, gamma=0.0001, kernel=rbf ...................................\n",
      "[CV] ..... C=1, gamma=0.0001, kernel=rbf, score=-14.676, total=   0.0s\n",
      "[CV] C=10, gamma=1, kernel=rbf .......................................\n",
      "[CV] .......... C=10, gamma=1, kernel=rbf, score=-8.665, total=   0.0s\n",
      "[CV] C=10, gamma=1, kernel=rbf .......................................\n",
      "[CV] .......... C=10, gamma=1, kernel=rbf, score=-6.194, total=   0.0s\n",
      "[CV] C=10, gamma=1, kernel=rbf .......................................\n",
      "[CV] ......... C=10, gamma=1, kernel=rbf, score=-25.446, total=   0.0s\n",
      "[CV] C=10, gamma=0.1, kernel=rbf .....................................\n",
      "[CV] ........ C=10, gamma=0.1, kernel=rbf, score=-9.252, total=   0.0s\n",
      "[CV] C=10, gamma=0.1, kernel=rbf .....................................\n"
     ]
    },
    {
     "name": "stderr",
     "output_type": "stream",
     "text": [
      "[Parallel(n_jobs=1)]: Using backend SequentialBackend with 1 concurrent workers.\n",
      "[Parallel(n_jobs=1)]: Done   1 out of   1 | elapsed:    0.0s remaining:    0.0s\n",
      "[Parallel(n_jobs=1)]: Done   2 out of   2 | elapsed:    0.0s remaining:    0.0s\n"
     ]
    },
    {
     "name": "stdout",
     "output_type": "stream",
     "text": [
      "[CV] ........ C=10, gamma=0.1, kernel=rbf, score=-4.381, total=   0.0s\n",
      "[CV] C=10, gamma=0.1, kernel=rbf .....................................\n",
      "[CV] ....... C=10, gamma=0.1, kernel=rbf, score=-25.301, total=   0.0s\n",
      "[CV] C=10, gamma=0.01, kernel=rbf ....................................\n",
      "[CV] ....... C=10, gamma=0.01, kernel=rbf, score=-9.141, total=   0.0s\n",
      "[CV] C=10, gamma=0.01, kernel=rbf ....................................\n",
      "[CV] ....... C=10, gamma=0.01, kernel=rbf, score=-3.867, total=   0.0s\n",
      "[CV] C=10, gamma=0.01, kernel=rbf ....................................\n",
      "[CV] ...... C=10, gamma=0.01, kernel=rbf, score=-24.892, total=   0.0s\n",
      "[CV] C=10, gamma=0.001, kernel=rbf ...................................\n",
      "[CV] ...... C=10, gamma=0.001, kernel=rbf, score=-8.937, total=   0.0s\n",
      "[CV] C=10, gamma=0.001, kernel=rbf ...................................\n",
      "[CV] ...... C=10, gamma=0.001, kernel=rbf, score=-3.559, total=   0.0s\n",
      "[CV] C=10, gamma=0.001, kernel=rbf ...................................\n",
      "[CV] ..... C=10, gamma=0.001, kernel=rbf, score=-21.806, total=   0.0s\n",
      "[CV] C=10, gamma=0.0001, kernel=rbf ..................................\n",
      "[CV] ..... C=10, gamma=0.0001, kernel=rbf, score=-6.277, total=   0.0s\n",
      "[CV] C=10, gamma=0.0001, kernel=rbf ..................................\n",
      "[CV] ..... C=10, gamma=0.0001, kernel=rbf, score=-0.227, total=   0.0s\n",
      "[CV] C=10, gamma=0.0001, kernel=rbf ..................................\n",
      "[CV] ..... C=10, gamma=0.0001, kernel=rbf, score=-4.927, total=   0.0s\n",
      "[CV] C=100, gamma=1, kernel=rbf ......................................\n",
      "[CV] ......... C=100, gamma=1, kernel=rbf, score=-9.311, total=   0.0s\n",
      "[CV] C=100, gamma=1, kernel=rbf ......................................\n",
      "[CV] ......... C=100, gamma=1, kernel=rbf, score=-4.559, total=   0.0s\n",
      "[CV] C=100, gamma=1, kernel=rbf ......................................\n",
      "[CV] ........ C=100, gamma=1, kernel=rbf, score=-25.430, total=   0.0s\n",
      "[CV] C=100, gamma=0.1, kernel=rbf ....................................\n",
      "[CV] ....... C=100, gamma=0.1, kernel=rbf, score=-9.293, total=   0.0s\n",
      "[CV] C=100, gamma=0.1, kernel=rbf ....................................\n",
      "[CV] ....... C=100, gamma=0.1, kernel=rbf, score=-4.370, total=   0.0s\n",
      "[CV] C=100, gamma=0.1, kernel=rbf ....................................\n",
      "[CV] ...... C=100, gamma=0.1, kernel=rbf, score=-25.270, total=   0.0s\n",
      "[CV] C=100, gamma=0.01, kernel=rbf ...................................\n",
      "[CV] ...... C=100, gamma=0.01, kernel=rbf, score=-9.115, total=   0.0s\n",
      "[CV] C=100, gamma=0.01, kernel=rbf ...................................\n",
      "[CV] ...... C=100, gamma=0.01, kernel=rbf, score=-3.749, total=   0.0s\n",
      "[CV] C=100, gamma=0.01, kernel=rbf ...................................\n",
      "[CV] ..... C=100, gamma=0.01, kernel=rbf, score=-24.718, total=   0.0s\n",
      "[CV] C=100, gamma=0.001, kernel=rbf ..................................\n",
      "[CV] ..... C=100, gamma=0.001, kernel=rbf, score=-8.852, total=   0.0s\n",
      "[CV] C=100, gamma=0.001, kernel=rbf ..................................\n",
      "[CV] ..... C=100, gamma=0.001, kernel=rbf, score=-1.107, total=   0.0s\n",
      "[CV] C=100, gamma=0.001, kernel=rbf ..................................\n",
      "[CV] .... C=100, gamma=0.001, kernel=rbf, score=-23.689, total=   0.0s\n",
      "[CV] C=100, gamma=0.0001, kernel=rbf .................................\n",
      "[CV] .... C=100, gamma=0.0001, kernel=rbf, score=-4.573, total=   0.0s\n",
      "[CV] C=100, gamma=0.0001, kernel=rbf .................................\n",
      "[CV] ... C=100, gamma=0.0001, kernel=rbf, score=-30.586, total=   0.0s\n",
      "[CV] C=100, gamma=0.0001, kernel=rbf .................................\n",
      "[CV] .... C=100, gamma=0.0001, kernel=rbf, score=-4.823, total=   0.0s\n",
      "[CV] C=1000, gamma=1, kernel=rbf .....................................\n",
      "[CV] ........ C=1000, gamma=1, kernel=rbf, score=-9.311, total=   0.0s\n",
      "[CV] C=1000, gamma=1, kernel=rbf .....................................\n",
      "[CV] ........ C=1000, gamma=1, kernel=rbf, score=-4.559, total=   0.0s\n",
      "[CV] C=1000, gamma=1, kernel=rbf .....................................\n",
      "[CV] ....... C=1000, gamma=1, kernel=rbf, score=-25.430, total=   0.0s\n",
      "[CV] C=1000, gamma=0.1, kernel=rbf ...................................\n",
      "[CV] ...... C=1000, gamma=0.1, kernel=rbf, score=-9.295, total=   0.3s\n",
      "[CV] C=1000, gamma=0.1, kernel=rbf ...................................\n",
      "[CV] ...... C=1000, gamma=0.1, kernel=rbf, score=-4.376, total=   0.6s\n",
      "[CV] C=1000, gamma=0.1, kernel=rbf ...................................\n",
      "[CV] ..... C=1000, gamma=0.1, kernel=rbf, score=-25.268, total=   0.2s\n",
      "[CV] C=1000, gamma=0.01, kernel=rbf ..................................\n",
      "[CV] ..... C=1000, gamma=0.01, kernel=rbf, score=-9.091, total=   0.3s\n",
      "[CV] C=1000, gamma=0.01, kernel=rbf ..................................\n",
      "[CV] ..... C=1000, gamma=0.01, kernel=rbf, score=-3.870, total=   0.4s\n",
      "[CV] C=1000, gamma=0.01, kernel=rbf ..................................\n",
      "[CV] .... C=1000, gamma=0.01, kernel=rbf, score=-24.209, total=   0.3s\n",
      "[CV] C=1000, gamma=0.001, kernel=rbf .................................\n",
      "[CV] .... C=1000, gamma=0.001, kernel=rbf, score=-7.493, total=   0.1s\n",
      "[CV] C=1000, gamma=0.001, kernel=rbf .................................\n",
      "[CV] .... C=1000, gamma=0.001, kernel=rbf, score=-2.959, total=   0.2s\n",
      "[CV] C=1000, gamma=0.001, kernel=rbf .................................\n",
      "[CV] ... C=1000, gamma=0.001, kernel=rbf, score=-27.782, total=   0.1s\n",
      "[CV] C=1000, gamma=0.0001, kernel=rbf ................................\n",
      "[CV] ... C=1000, gamma=0.0001, kernel=rbf, score=-0.713, total=   0.0s\n",
      "[CV] C=1000, gamma=0.0001, kernel=rbf ................................\n",
      "[CV] .. C=1000, gamma=0.0001, kernel=rbf, score=-69.019, total=   0.0s\n",
      "[CV] C=1000, gamma=0.0001, kernel=rbf ................................\n",
      "[CV] .. C=1000, gamma=0.0001, kernel=rbf, score=-11.284, total=   0.0s\n"
     ]
    },
    {
     "name": "stderr",
     "output_type": "stream",
     "text": [
      "[Parallel(n_jobs=1)]: Done  75 out of  75 | elapsed:    3.3s finished\n"
     ]
    },
    {
     "data": {
      "text/plain": [
       "GridSearchCV(cv='warn', error_score='raise-deprecating',\n",
       "             estimator=SVR(C=1.0, cache_size=200, coef0=0.0, degree=3,\n",
       "                           epsilon=0.1, gamma='auto_deprecated', kernel='rbf',\n",
       "                           max_iter=-1, shrinking=True, tol=0.001,\n",
       "                           verbose=False),\n",
       "             iid='warn', n_jobs=None,\n",
       "             param_grid={'C': [0.1, 1, 10, 100, 1000],\n",
       "                         'gamma': [1, 0.1, 0.01, 0.001, 0.0001],\n",
       "                         'kernel': ['rbf']},\n",
       "             pre_dispatch='2*n_jobs', refit=True, return_train_score=False,\n",
       "             scoring=None, verbose=3)"
      ]
     },
     "execution_count": 10,
     "metadata": {},
     "output_type": "execute_result"
    }
   ],
   "source": [
    "from sklearn.model_selection import GridSearchCV \n",
    "\n",
    "import warnings\n",
    "warnings.filterwarnings('ignore')\n",
    "\n",
    "# defining parameter range \n",
    "param_grid = {'C': [0.1, 1, 10, 100, 1000], \n",
    "            'gamma': [1, 0.1, 0.01, 0.001, 0.0001], \n",
    "            'kernel': ['rbf']} \n",
    "\n",
    "grid = GridSearchCV(SVR(), param_grid, refit = True, verbose = 3) \n",
    "\n",
    "# fitting the model for grid search \n",
    "grid.fit(train_id, train_hpi) "
   ]
  },
  {
   "cell_type": "code",
   "execution_count": 11,
   "metadata": {},
   "outputs": [
    {
     "name": "stdout",
     "output_type": "stream",
     "text": [
      "{'C': 10, 'gamma': 0.0001, 'kernel': 'rbf'}\n",
      "SVR(C=10, cache_size=200, coef0=0.0, degree=3, epsilon=0.1, gamma=0.0001,\n",
      "    kernel='rbf', max_iter=-1, shrinking=True, tol=0.001, verbose=False)\n"
     ]
    }
   ],
   "source": [
    "# print best parameter after tuning \n",
    "print(grid.best_params_) \n",
    "\n",
    "# print how our model looks after hyper-parameter tuning \n",
    "print(grid.best_estimator_) "
   ]
  },
  {
   "cell_type": "code",
   "execution_count": null,
   "metadata": {},
   "outputs": [],
   "source": [
    "\n"
   ]
  },
  {
   "cell_type": "code",
   "execution_count": 12,
   "metadata": {},
   "outputs": [
    {
     "data": {
      "image/png": "[encoded data removed]",
      "text/plain": [
       "<Figure size 864x432 with 1 Axes>"
      ]
     },
     "metadata": {
      "needs_background": "light"
     },
     "output_type": "display_data"
    }
   ],
   "source": [
    "svr_rbf_original = SVR(kernel='rbf', C= 10, gamma= .0001, epsilon=0.1) \n",
    "#svr_rbf_original.fit(train_dates, train_hpi)\n",
    "svr_rbf_original.fit(train_id, train_hpi)\n",
    "\n",
    "#svr_rbf_twicked = SVR(kernel='rbf', C= 100, epsilon=0.005, gamma=.00001)\n",
    "#svr_rbf_twicked.fit(train_dates, train_hpi)\n",
    "#svr_rbf_twicked.fit(train_id, train_hpi)\n",
    "\n",
    "plt.figure(figsize = (12,6))\n",
    "plt.plot(filtered_data3['REF_DATE'], filtered_data3['HPI'], label='Raw Data')  \n",
    "plt.plot(train_dates, svr_rbf_original.predict(train_id), label='RBF Model')\n",
    "plt.plot(test_dates, svr_rbf_original.predict(test_id), label='Forecast')\n",
    "#plt.plot(test_dates, svr_rbf_twicked.predict(test_id), label='Fit eps:0.005 / gamma:0.001') \n",
    "plt.legend() \n",
    "plt.show()\n"
   ]
  },
  {
   "cell_type": "code",
   "execution_count": 13,
   "metadata": {},
   "outputs": [
    {
     "name": "stdout",
     "output_type": "stream",
     "text": [
      "15.688047458914703\n"
     ]
    }
   ],
   "source": [
    "from sklearn.metrics import mean_squared_error\n",
    "\n",
    "error = mean_squared_error(test_hpi, svr_rbf_original.predict(test_id))\n",
    "print(error)"
   ]
  },
  {
   "cell_type": "code",
   "execution_count": 14,
   "metadata": {
    "scrolled": true
   },
   "outputs": [
    {
     "name": "stdout",
     "output_type": "stream",
     "text": [
      "Fitting 3 folds for each of 25 candidates, totalling 75 fits\n",
      "[CV] C=0.1, gamma=1, kernel=linear ...................................\n",
      "[CV] ...... C=0.1, gamma=1, kernel=linear, score=-2.162, total=   0.0s\n",
      "[CV] C=0.1, gamma=1, kernel=linear ...................................\n",
      "[CV] ...... C=0.1, gamma=1, kernel=linear, score=-4.374, total=   0.1s\n",
      "[CV] C=0.1, gamma=1, kernel=linear ...................................\n",
      "[CV] ...... C=0.1, gamma=1, kernel=linear, score=-4.801, total=   0.0s\n",
      "[CV] C=0.1, gamma=0.1, kernel=linear .................................\n",
      "[CV] .... C=0.1, gamma=0.1, kernel=linear, score=-2.162, total=   0.0s\n",
      "[CV] C=0.1, gamma=0.1, kernel=linear .................................\n"
     ]
    },
    {
     "name": "stderr",
     "output_type": "stream",
     "text": [
      "[Parallel(n_jobs=1)]: Using backend SequentialBackend with 1 concurrent workers.\n",
      "[Parallel(n_jobs=1)]: Done   1 out of   1 | elapsed:    0.0s remaining:    0.0s\n",
      "[Parallel(n_jobs=1)]: Done   2 out of   2 | elapsed:    0.0s remaining:    0.0s\n"
     ]
    },
    {
     "name": "stdout",
     "output_type": "stream",
     "text": [
      "[CV] .... C=0.1, gamma=0.1, kernel=linear, score=-4.374, total=   0.1s\n",
      "[CV] C=0.1, gamma=0.1, kernel=linear .................................\n",
      "[CV] .... C=0.1, gamma=0.1, kernel=linear, score=-4.801, total=   0.0s\n",
      "[CV] C=0.1, gamma=0.01, kernel=linear ................................\n",
      "[CV] ... C=0.1, gamma=0.01, kernel=linear, score=-2.162, total=   0.0s\n",
      "[CV] C=0.1, gamma=0.01, kernel=linear ................................\n",
      "[CV] ... C=0.1, gamma=0.01, kernel=linear, score=-4.374, total=   0.1s\n",
      "[CV] C=0.1, gamma=0.01, kernel=linear ................................\n",
      "[CV] ... C=0.1, gamma=0.01, kernel=linear, score=-4.801, total=   0.0s\n",
      "[CV] C=0.1, gamma=0.001, kernel=linear ...............................\n",
      "[CV] .. C=0.1, gamma=0.001, kernel=linear, score=-2.162, total=   0.0s\n",
      "[CV] C=0.1, gamma=0.001, kernel=linear ...............................\n",
      "[CV] .. C=0.1, gamma=0.001, kernel=linear, score=-4.374, total=   0.1s\n",
      "[CV] C=0.1, gamma=0.001, kernel=linear ...............................\n",
      "[CV] .. C=0.1, gamma=0.001, kernel=linear, score=-4.801, total=   0.0s\n",
      "[CV] C=0.1, gamma=0.0001, kernel=linear ..............................\n",
      "[CV] . C=0.1, gamma=0.0001, kernel=linear, score=-2.162, total=   0.0s\n",
      "[CV] C=0.1, gamma=0.0001, kernel=linear ..............................\n",
      "[CV] . C=0.1, gamma=0.0001, kernel=linear, score=-4.374, total=   0.1s\n",
      "[CV] C=0.1, gamma=0.0001, kernel=linear ..............................\n",
      "[CV] . C=0.1, gamma=0.0001, kernel=linear, score=-4.801, total=   0.0s\n",
      "[CV] C=1, gamma=1, kernel=linear .....................................\n",
      "[CV] ........ C=1, gamma=1, kernel=linear, score=-2.162, total=   0.2s\n",
      "[CV] C=1, gamma=1, kernel=linear .....................................\n",
      "[CV] ........ C=1, gamma=1, kernel=linear, score=-4.374, total=   0.5s\n",
      "[CV] C=1, gamma=1, kernel=linear .....................................\n",
      "[CV] ........ C=1, gamma=1, kernel=linear, score=-4.801, total=   0.2s\n",
      "[CV] C=1, gamma=0.1, kernel=linear ...................................\n",
      "[CV] ...... C=1, gamma=0.1, kernel=linear, score=-2.162, total=   0.2s\n",
      "[CV] C=1, gamma=0.1, kernel=linear ...................................\n",
      "[CV] ...... C=1, gamma=0.1, kernel=linear, score=-4.374, total=   0.5s\n",
      "[CV] C=1, gamma=0.1, kernel=linear ...................................\n",
      "[CV] ...... C=1, gamma=0.1, kernel=linear, score=-4.801, total=   0.2s\n",
      "[CV] C=1, gamma=0.01, kernel=linear ..................................\n",
      "[CV] ..... C=1, gamma=0.01, kernel=linear, score=-2.162, total=   0.2s\n",
      "[CV] C=1, gamma=0.01, kernel=linear ..................................\n",
      "[CV] ..... C=1, gamma=0.01, kernel=linear, score=-4.374, total=   0.5s\n",
      "[CV] C=1, gamma=0.01, kernel=linear ..................................\n",
      "[CV] ..... C=1, gamma=0.01, kernel=linear, score=-4.801, total=   0.2s\n",
      "[CV] C=1, gamma=0.001, kernel=linear .................................\n",
      "[CV] .... C=1, gamma=0.001, kernel=linear, score=-2.162, total=   0.2s\n",
      "[CV] C=1, gamma=0.001, kernel=linear .................................\n",
      "[CV] .... C=1, gamma=0.001, kernel=linear, score=-4.374, total=   0.5s\n",
      "[CV] C=1, gamma=0.001, kernel=linear .................................\n",
      "[CV] .... C=1, gamma=0.001, kernel=linear, score=-4.801, total=   0.2s\n",
      "[CV] C=1, gamma=0.0001, kernel=linear ................................\n",
      "[CV] ... C=1, gamma=0.0001, kernel=linear, score=-2.162, total=   0.2s\n",
      "[CV] C=1, gamma=0.0001, kernel=linear ................................\n",
      "[CV] ... C=1, gamma=0.0001, kernel=linear, score=-4.374, total=   0.5s\n",
      "[CV] C=1, gamma=0.0001, kernel=linear ................................\n",
      "[CV] ... C=1, gamma=0.0001, kernel=linear, score=-4.801, total=   0.2s\n",
      "[CV] C=10, gamma=1, kernel=linear ....................................\n",
      "[CV] ....... C=10, gamma=1, kernel=linear, score=-2.162, total=   1.7s\n",
      "[CV] C=10, gamma=1, kernel=linear ....................................\n",
      "[CV] ....... C=10, gamma=1, kernel=linear, score=-4.374, total=   5.0s\n",
      "[CV] C=10, gamma=1, kernel=linear ....................................\n",
      "[CV] ....... C=10, gamma=1, kernel=linear, score=-4.801, total=   1.7s\n",
      "[CV] C=10, gamma=0.1, kernel=linear ..................................\n",
      "[CV] ..... C=10, gamma=0.1, kernel=linear, score=-2.162, total=   1.6s\n",
      "[CV] C=10, gamma=0.1, kernel=linear ..................................\n",
      "[CV] ..... C=10, gamma=0.1, kernel=linear, score=-4.374, total=   4.8s\n",
      "[CV] C=10, gamma=0.1, kernel=linear ..................................\n",
      "[CV] ..... C=10, gamma=0.1, kernel=linear, score=-4.801, total=   1.7s\n",
      "[CV] C=10, gamma=0.01, kernel=linear .................................\n",
      "[CV] .... C=10, gamma=0.01, kernel=linear, score=-2.162, total=   1.6s\n",
      "[CV] C=10, gamma=0.01, kernel=linear .................................\n",
      "[CV] .... C=10, gamma=0.01, kernel=linear, score=-4.374, total=   4.8s\n",
      "[CV] C=10, gamma=0.01, kernel=linear .................................\n",
      "[CV] .... C=10, gamma=0.01, kernel=linear, score=-4.801, total=   1.6s\n",
      "[CV] C=10, gamma=0.001, kernel=linear ................................\n",
      "[CV] ... C=10, gamma=0.001, kernel=linear, score=-2.162, total=   1.7s\n",
      "[CV] C=10, gamma=0.001, kernel=linear ................................\n",
      "[CV] ... C=10, gamma=0.001, kernel=linear, score=-4.374, total=   5.0s\n",
      "[CV] C=10, gamma=0.001, kernel=linear ................................\n",
      "[CV] ... C=10, gamma=0.001, kernel=linear, score=-4.801, total=   1.7s\n",
      "[CV] C=10, gamma=0.0001, kernel=linear ...............................\n",
      "[CV] .. C=10, gamma=0.0001, kernel=linear, score=-2.162, total=   1.6s\n",
      "[CV] C=10, gamma=0.0001, kernel=linear ...............................\n",
      "[CV] .. C=10, gamma=0.0001, kernel=linear, score=-4.374, total=   4.8s\n",
      "[CV] C=10, gamma=0.0001, kernel=linear ...............................\n",
      "[CV] .. C=10, gamma=0.0001, kernel=linear, score=-4.801, total=   1.7s\n",
      "[CV] C=100, gamma=1, kernel=linear ...................................\n",
      "[CV] ...... C=100, gamma=1, kernel=linear, score=-2.162, total=  16.8s\n",
      "[CV] C=100, gamma=1, kernel=linear ...................................\n",
      "[CV] ...... C=100, gamma=1, kernel=linear, score=-4.374, total=  47.1s\n",
      "[CV] C=100, gamma=1, kernel=linear ...................................\n",
      "[CV] ...... C=100, gamma=1, kernel=linear, score=-4.801, total=  18.8s\n",
      "[CV] C=100, gamma=0.1, kernel=linear .................................\n",
      "[CV] .... C=100, gamma=0.1, kernel=linear, score=-2.162, total=  17.0s\n",
      "[CV] C=100, gamma=0.1, kernel=linear .................................\n",
      "[CV] .... C=100, gamma=0.1, kernel=linear, score=-4.374, total=  47.0s\n",
      "[CV] C=100, gamma=0.1, kernel=linear .................................\n",
      "[CV] .... C=100, gamma=0.1, kernel=linear, score=-4.801, total=  18.7s\n",
      "[CV] C=100, gamma=0.01, kernel=linear ................................\n",
      "[CV] ... C=100, gamma=0.01, kernel=linear, score=-2.162, total=  17.1s\n",
      "[CV] C=100, gamma=0.01, kernel=linear ................................\n",
      "[CV] ... C=100, gamma=0.01, kernel=linear, score=-4.374, total=  46.6s\n",
      "[CV] C=100, gamma=0.01, kernel=linear ................................\n",
      "[CV] ... C=100, gamma=0.01, kernel=linear, score=-4.801, total=  18.4s\n",
      "[CV] C=100, gamma=0.001, kernel=linear ...............................\n",
      "[CV] .. C=100, gamma=0.001, kernel=linear, score=-2.162, total=  16.9s\n",
      "[CV] C=100, gamma=0.001, kernel=linear ...............................\n",
      "[CV] .. C=100, gamma=0.001, kernel=linear, score=-4.374, total=  46.5s\n",
      "[CV] C=100, gamma=0.001, kernel=linear ...............................\n",
      "[CV] .. C=100, gamma=0.001, kernel=linear, score=-4.801, total=  18.9s\n",
      "[CV] C=100, gamma=0.0001, kernel=linear ..............................\n",
      "[CV] . C=100, gamma=0.0001, kernel=linear, score=-2.162, total=  17.0s\n",
      "[CV] C=100, gamma=0.0001, kernel=linear ..............................\n",
      "[CV] . C=100, gamma=0.0001, kernel=linear, score=-4.374, total=  46.6s\n",
      "[CV] C=100, gamma=0.0001, kernel=linear ..............................\n",
      "[CV] . C=100, gamma=0.0001, kernel=linear, score=-4.801, total=  18.6s\n",
      "[CV] C=1000, gamma=1, kernel=linear ..................................\n",
      "[CV] ..... C=1000, gamma=1, kernel=linear, score=-2.162, total= 3.1min\n",
      "[CV] C=1000, gamma=1, kernel=linear ..................................\n",
      "[CV] ..... C=1000, gamma=1, kernel=linear, score=-4.374, total= 8.6min\n",
      "[CV] C=1000, gamma=1, kernel=linear ..................................\n"
     ]
    },
    {
     "name": "stdout",
     "output_type": "stream",
     "text": [
      "[CV] ..... C=1000, gamma=1, kernel=linear, score=-4.801, total= 3.0min\n",
      "[CV] C=1000, gamma=0.1, kernel=linear ................................\n",
      "[CV] ... C=1000, gamma=0.1, kernel=linear, score=-2.162, total= 3.1min\n",
      "[CV] C=1000, gamma=0.1, kernel=linear ................................\n",
      "[CV] ... C=1000, gamma=0.1, kernel=linear, score=-4.374, total= 8.6min\n",
      "[CV] C=1000, gamma=0.1, kernel=linear ................................\n",
      "[CV] ... C=1000, gamma=0.1, kernel=linear, score=-4.801, total= 2.9min\n",
      "[CV] C=1000, gamma=0.01, kernel=linear ...............................\n",
      "[CV] .. C=1000, gamma=0.01, kernel=linear, score=-2.162, total= 3.1min\n",
      "[CV] C=1000, gamma=0.01, kernel=linear ...............................\n",
      "[CV] .. C=1000, gamma=0.01, kernel=linear, score=-4.374, total= 8.6min\n",
      "[CV] C=1000, gamma=0.01, kernel=linear ...............................\n",
      "[CV] .. C=1000, gamma=0.01, kernel=linear, score=-4.801, total= 2.9min\n",
      "[CV] C=1000, gamma=0.001, kernel=linear ..............................\n",
      "[CV] . C=1000, gamma=0.001, kernel=linear, score=-2.162, total= 3.1min\n",
      "[CV] C=1000, gamma=0.001, kernel=linear ..............................\n",
      "[CV] . C=1000, gamma=0.001, kernel=linear, score=-4.374, total= 8.5min\n",
      "[CV] C=1000, gamma=0.001, kernel=linear ..............................\n",
      "[CV] . C=1000, gamma=0.001, kernel=linear, score=-4.801, total= 2.9min\n",
      "[CV] C=1000, gamma=0.0001, kernel=linear .............................\n",
      "[CV]  C=1000, gamma=0.0001, kernel=linear, score=-2.162, total= 3.1min\n",
      "[CV] C=1000, gamma=0.0001, kernel=linear .............................\n",
      "[CV]  C=1000, gamma=0.0001, kernel=linear, score=-4.374, total= 8.6min\n",
      "[CV] C=1000, gamma=0.0001, kernel=linear .............................\n",
      "[CV]  C=1000, gamma=0.0001, kernel=linear, score=-4.801, total= 3.0min\n"
     ]
    },
    {
     "name": "stderr",
     "output_type": "stream",
     "text": [
      "[Parallel(n_jobs=1)]: Done  75 out of  75 | elapsed: 80.9min finished\n"
     ]
    },
    {
     "data": {
      "text/plain": [
       "GridSearchCV(cv='warn', error_score='raise-deprecating',\n",
       "             estimator=SVR(C=1.0, cache_size=200, coef0=0.0, degree=3,\n",
       "                           epsilon=0.1, gamma='auto_deprecated', kernel='rbf',\n",
       "                           max_iter=-1, shrinking=True, tol=0.001,\n",
       "                           verbose=False),\n",
       "             iid='warn', n_jobs=None,\n",
       "             param_grid={'C': [0.1, 1, 10, 100, 1000],\n",
       "                         'gamma': [1, 0.1, 0.01, 0.001, 0.0001],\n",
       "                         'kernel': ['linear']},\n",
       "             pre_dispatch='2*n_jobs', refit=True, return_train_score=False,\n",
       "             scoring=None, verbose=3)"
      ]
     },
     "execution_count": 14,
     "metadata": {},
     "output_type": "execute_result"
    }
   ],
   "source": [
    "# defining parameter range \n",
    "param_grid = {'C': [0.1, 1, 10, 100, 1000], \n",
    "            'gamma': [1, 0.1, 0.01, 0.001, 0.0001], \n",
    "            'kernel': ['linear']} \n",
    "\n",
    "grid = GridSearchCV(SVR(), param_grid, refit = True, verbose = 3) \n",
    "\n",
    "# fitting the model for grid search \n",
    "grid.fit(train_id, train_hpi) "
   ]
  },
  {
   "cell_type": "code",
   "execution_count": 15,
   "metadata": {},
   "outputs": [
    {
     "name": "stdout",
     "output_type": "stream",
     "text": [
      "{'C': 0.1, 'gamma': 1, 'kernel': 'linear'}\n",
      "SVR(C=0.1, cache_size=200, coef0=0.0, degree=3, epsilon=0.1, gamma=1,\n",
      "    kernel='linear', max_iter=-1, shrinking=True, tol=0.001, verbose=False)\n"
     ]
    }
   ],
   "source": [
    "# print best parameter after tuning \n",
    "print(grid.best_params_) \n",
    "\n",
    "# print how our model looks after hyper-parameter tuning \n",
    "print(grid.best_estimator_) "
   ]
  },
  {
   "cell_type": "code",
   "execution_count": 16,
   "metadata": {},
   "outputs": [
    {
     "data": {
      "image/png": "[encoded data removed]",
      "text/plain": [
       "<Figure size 864x432 with 1 Axes>"
      ]
     },
     "metadata": {
      "needs_background": "light"
     },
     "output_type": "display_data"
    }
   ],
   "source": [
    " svr_linear_original = SVR(kernel='linear', C= 0.1, gamma= 1, epsilon=0.1) \n",
    "#svr_rbf_original.fit(train_dates, train_hpi)\n",
    "svr_linear_original.fit(train_id, train_hpi)\n",
    "\n",
    "\n",
    "plt.figure(figsize = (12,6))\n",
    "plt.plot(filtered_data3['REF_DATE'], filtered_data3['HPI'], label='Raw Data')  \n",
    "plt.plot(train_dates, svr_linear_original.predict(train_id), label='Linear Model')\n",
    "plt.plot(test_dates, svr_linear_original.predict(test_id), label='Forecast')\n",
    "#plt.plot(test_dates, svr_rbf_twicked.predict(test_id), label='Fit eps:0.005 / gamma:0.001') \n",
    "plt.legend() \n",
    "plt.show()"
   ]
  },
  {
   "cell_type": "code",
   "execution_count": 19,
   "metadata": {},
   "outputs": [
    {
     "name": "stdout",
     "output_type": "stream",
     "text": [
      "2.118095657489247\n"
     ]
    }
   ],
   "source": [
    "from sklearn.metrics import mean_squared_error\n",
    "\n",
    "error = mean_squared_error(test_hpi, svr_linear_original.predict(test_id))\n",
    "print(error)"
   ]
  },
  {
   "cell_type": "code",
   "execution_count": null,
   "metadata": {},
   "outputs": [
    {
     "name": "stdout",
     "output_type": "stream",
     "text": [
      "Fitting 3 folds for each of 25 candidates, totalling 75 fits\n",
      "[CV] C=0.1, gamma=1, kernel=poly .....................................\n"
     ]
    },
    {
     "name": "stderr",
     "output_type": "stream",
     "text": [
      "[Parallel(n_jobs=1)]: Using backend SequentialBackend with 1 concurrent workers.\n"
     ]
    }
   ],
   "source": [
    "# defining parameter range \n",
    "param_grid = {'C': [0.1, 1, 10, 100, 1000], \n",
    "            'gamma': [1, 0.1, 0.01, 0.001, 0.0001], \n",
    "            'kernel': ['poly']} \n",
    "\n",
    "grid = GridSearchCV(SVR(), param_grid, refit = True, verbose = 5) \n",
    "\n",
    "# fitting the model for grid search \n",
    "grid.fit(train_id, train_hpi) "
   ]
  },
  {
   "cell_type": "code",
   "execution_count": null,
   "metadata": {},
   "outputs": [],
   "source": [
    "# defining parameter range \n",
    "param_grid = {'C': [0.1, 1, 10, 100, 1000], \n",
    "            'gamma': [1, 0.1, 0.01, 0.001, 0.0001], \n",
    "            'kernel': ['sigmoid']} \n",
    "\n",
    "grid = GridSearchCV(SVR(), param_grid, refit = True, verbose = 5) \n",
    "\n",
    "# fitting the model for grid search \n",
    "grid.fit(train_id, train_hpi)"
   ]
  },
  {
   "cell_type": "code",
   "execution_count": 18,
   "metadata": {},
   "outputs": [
    {
     "data": {
      "image/png": "[encoded data removed]",
      "text/plain": [
       "<Figure size 864x432 with 1 Axes>"
      ]
     },
     "metadata": {
      "needs_background": "light"
     },
     "output_type": "display_data"
    }
   ],
   "source": [
    "svr_poly_original = SVR(kernel='poly', C= 10, gamma= .0001, epsilon=0.1) \n",
    "#svr_rbf_original.fit(train_dates, train_hpi)\n",
    "svr_poly_original.fit(train_id, train_hpi)\n",
    "\n",
    "#svr_rbf_twicked = SVR(kernel='rbf', C= 100, epsilon=0.005, gamma=.00001)\n",
    "#svr_rbf_twicked.fit(train_dates, train_hpi)\n",
    "#svr_rbf_twicked.fit(train_id, train_hpi)\n",
    "\n",
    "plt.figure(figsize = (12,6))\n",
    "plt.plot(filtered_data3['REF_DATE'], filtered_data3['HPI'], label='Raw Data')  \n",
    "plt.plot(train_dates, svr_poly_original.predict(train_id), label='poly Model')\n",
    "plt.plot(test_dates, svr_poly_original.predict(test_id), label='Forecast')\n",
    "#plt.plot(test_dates, svr_rbf_twicked.predict(test_id), label='Fit eps:0.005 / gamma:0.001') \n",
    "plt.legend() \n",
    "plt.show()"
   ]
  },
  {
   "cell_type": "code",
   "execution_count": 20,
   "metadata": {},
   "outputs": [
    {
     "name": "stdout",
     "output_type": "stream",
     "text": [
      "138.62226352340028\n"
     ]
    }
   ],
   "source": [
    "from sklearn.metrics import mean_squared_error\n",
    "\n",
    "error = mean_squared_error(test_hpi, svr_poly_original.predict(test_id))\n",
    "print(error)"
   ]
  }
 ],
 "metadata": {
  "kernelspec": {
   "display_name": "Python 3",
   "language": "python",
   "name": "python3"
  },
  "language_info": {
   "codemirror_mode": {
    "name": "ipython",
    "version": 3
   },
   "file_extension": ".py",
   "mimetype": "text/x-python",
   "name": "python",
   "nbconvert_exporter": "python",
   "pygments_lexer": "ipython3",
   "version": "3.7.4"
  }
 },
 "nbformat": 4,
 "nbformat_minor": 2
}
